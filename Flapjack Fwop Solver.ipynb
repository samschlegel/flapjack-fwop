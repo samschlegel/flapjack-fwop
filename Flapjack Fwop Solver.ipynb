{
 "cells": [
  {
   "cell_type": "code",
   "execution_count": 1,
   "metadata": {},
   "outputs": [
    {
     "name": "stdout",
     "output_type": "stream",
     "text": [
      "\u001b[32m\u001b[1m  Updating\u001b[22m\u001b[39m registry at `~/.julia/registries/General`\n",
      "\u001b[32m\u001b[1m  Updating\u001b[22m\u001b[39m git-repo `https://github.com/JuliaRegistries/General.git`\n",
      "\u001b[?25l\u001b[2K\u001b[?25h\u001b[32m\u001b[1m Resolving\u001b[22m\u001b[39m package versions...\n",
      "\u001b[32m\u001b[1m  Updating\u001b[22m\u001b[39m `~/.julia/environments/v1.0/Project.toml`\n",
      "\u001b[90m [no changes]\u001b[39m\n",
      "\u001b[32m\u001b[1m  Updating\u001b[22m\u001b[39m `~/.julia/environments/v1.0/Manifest.toml`\n",
      "\u001b[90m [no changes]\u001b[39m\n",
      "\u001b[32m\u001b[1m Resolving\u001b[22m\u001b[39m package versions...\n",
      "\u001b[32m\u001b[1m  Updating\u001b[22m\u001b[39m `~/.julia/environments/v1.0/Project.toml`\n",
      "\u001b[90m [no changes]\u001b[39m\n",
      "\u001b[32m\u001b[1m  Updating\u001b[22m\u001b[39m `~/.julia/environments/v1.0/Manifest.toml`\n",
      "\u001b[90m [no changes]\u001b[39m\n"
     ]
    }
   ],
   "source": [
    "using Pkg\n",
    "Pkg.add(\"AbstractAlgebra\")\n",
    "Pkg.add(\"BenchmarkTools\")"
   ]
  },
  {
   "cell_type": "code",
   "execution_count": 2,
   "metadata": {},
   "outputs": [],
   "source": [
    "using LinearAlgebra\n",
    "using AbstractAlgebra\n",
    "using BenchmarkTools"
   ]
  },
  {
   "cell_type": "code",
   "execution_count": 3,
   "metadata": {},
   "outputs": [],
   "source": [
    "B = GF(2)[1 1 0 0 0\n",
    "        1 1 1 0 0\n",
    "        0 1 1 1 0\n",
    "        0 0 1 1 1\n",
    "        0 0 0 1 1];\n",
    "Id = identity_matrix(GF(2), 5);\n",
    "O = zero_matrix(GF(2), 5, 5);\n",
    "A = vcat(hcat(B, hcat(Id, hcat(O, hcat(O, O)))),\n",
    "vcat(hcat(Id, hcat(B, hcat(Id, hcat(O, O)))),\n",
    "vcat(hcat(O, hcat(Id, hcat(B, hcat(Id, O)))),\n",
    "vcat(hcat(O, hcat(O, hcat(Id, hcat(B, Id)))),\n",
    "hcat(O, hcat(O, hcat(O, hcat(Id, B))))))));\n",
    "_, rr = rref(hcat(A, one(parent(A))));\n",
    "R, E = rr[:, 26:50], rr[:, 1:25];\n",
    "n1, n2 = E[:, 24:24], E[:, 25:25];"
   ]
  },
  {
   "cell_type": "code",
   "execution_count": 4,
   "metadata": {},
   "outputs": [
    {
     "data": {
      "text/plain": [
       "to_array (generic function with 1 method)"
      ]
     },
     "execution_count": 4,
     "metadata": {},
     "output_type": "execute_result"
    }
   ],
   "source": [
    "function to_array(m::T) where T <: MatElem\n",
    "    map(x -> x.d, reshape(solution.entries, (5, 5)))\n",
    "end"
   ]
  },
  {
   "cell_type": "code",
   "execution_count": 14,
   "metadata": {},
   "outputs": [
    {
     "name": "stderr",
     "output_type": "stream",
     "text": [
      "WARNING: redefining constant R_arr\n"
     ]
    }
   ],
   "source": [
    "const R_arr = map(x -> x.d, R.entries) :: Array{Int64, 2};"
   ]
  },
  {
   "cell_type": "code",
   "execution_count": 11,
   "metadata": {},
   "outputs": [
    {
     "data": {
      "text/plain": [
       "solve (generic function with 1 method)"
      ]
     },
     "execution_count": 11,
     "metadata": {},
     "output_type": "execute_result"
    }
   ],
   "source": [
    "function solve(m :: Array{Int64, 2}) :: Array{Int64, 2}\n",
    "    c = reshape(map(x -> (x + 1) % 2, m), (25,1))\n",
    "    s = R_arr * c\n",
    "    reshape(map(x -> (x + 1) % 2, s), (5, 5))\n",
    "end"
   ]
  },
  {
   "cell_type": "code",
   "execution_count": 12,
   "metadata": {},
   "outputs": [],
   "source": [
    "Input = [\n",
    "    0 1 1 0 0\n",
    "    1 0 1 1 0\n",
    "    1 0 0 0 0\n",
    "    0 0 1 1 1\n",
    "    1 0 1 0 1\n",
    "];"
   ]
  },
  {
   "cell_type": "code",
   "execution_count": 13,
   "metadata": {},
   "outputs": [
    {
     "data": {
      "text/plain": [
       "BenchmarkTools.Trial: \n",
       "  memory estimate:  1.36 KiB\n",
       "  allocs estimate:  11\n",
       "  --------------\n",
       "  minimum time:     944.739 ns (0.00% GC)\n",
       "  median time:      996.000 ns (0.00% GC)\n",
       "  mean time:        1.390 μs (18.82% GC)\n",
       "  maximum time:     1.454 ms (99.89% GC)\n",
       "  --------------\n",
       "  samples:          10000\n",
       "  evals/sample:     23"
      ]
     },
     "execution_count": 13,
     "metadata": {},
     "output_type": "execute_result"
    }
   ],
   "source": [
    "@benchmark solve(Input)"
   ]
  },
  {
   "cell_type": "code",
   "execution_count": 15,
   "metadata": {},
   "outputs": [
    {
     "data": {
      "text/plain": [
       "5×5 Array{Int64,2}:\n",
       " 1  0  1  1  1\n",
       " 1  0  0  0  0\n",
       " 0  1  0  0  0\n",
       " 0  1  1  0  1\n",
       " 0  1  1  1  1"
      ]
     },
     "execution_count": 15,
     "metadata": {},
     "output_type": "execute_result"
    }
   ],
   "source": [
    "solve(Input)"
   ]
  },
  {
   "cell_type": "code",
   "execution_count": null,
   "metadata": {},
   "outputs": [],
   "source": []
  }
 ],
 "metadata": {
  "kernelspec": {
   "display_name": "Julia 1.0.3",
   "language": "julia",
   "name": "julia-1.0"
  },
  "language_info": {
   "file_extension": ".jl",
   "mimetype": "application/julia",
   "name": "julia",
   "version": "1.0.3"
  }
 },
 "nbformat": 4,
 "nbformat_minor": 2
}
